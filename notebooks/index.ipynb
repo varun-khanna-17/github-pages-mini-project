{
 "cells": [
  {
   "attachments": {},
   "cell_type": "markdown",
   "metadata": {},
   "source": [
    "## Content\n",
    "\n",
    "1. [example](./example.html)\n",
    "2. [Shakespeare_Text_Generation](./Group_15_text_generation_rnn_lstm_shakespeare.html)"
   ]
  }
 ],
 "metadata": {
  "language_info": {
   "name": "python"
  },
  "orig_nbformat": 4
 },
 "nbformat": 4,
 "nbformat_minor": 2
}

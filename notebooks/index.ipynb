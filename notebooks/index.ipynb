{
 "cells": [
  {
   "attachments": {},
   "cell_type": "markdown",
   "metadata": {},
   "source": [
    "## Content\n",
    "\n",
    "1. [example](./example.html)\n",
    "2. [Shakespeare_Text_Generation](./Group_15_text_generation_rnn_lstm_shakespeare.html)"
   ]
  }
 ],
 "metadata": {
  "kernelspec": {
   "display_name": "Python 3",
   "language": "python",
   "name": "python3"
  },
  "language_info": {
   "name": "python",
   "version": "3.10.7"
  },
  "orig_nbformat": 4,
  "vscode": {
   "interpreter": {
    "hash": "41a78647ac57d79547f705e41317534c8ae76846bdbd5970b430cb0dfaf6408f"
   }
  }
 },
 "nbformat": 4,
 "nbformat_minor": 2
}
